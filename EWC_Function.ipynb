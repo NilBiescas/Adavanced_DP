{
 "cells": [
  {
   "cell_type": "code",
   "execution_count": 1,
   "metadata": {},
   "outputs": [],
   "source": [
    "import torch\n",
    "import torch.nn as nn\n",
    "\n"
   ]
  },
  {
   "cell_type": "code",
   "execution_count": null,
   "metadata": {},
   "outputs": [],
   "source": [
    "def compute_importances(model, data_loader, criterion, device):\n",
    "    model.eval()\n",
    "    \n",
    "    importances = {}\n",
    "    for name, param in model.named_parameters():\n",
    "        importances[name] = torch.zeros_like(param)\n",
    "\n",
    "    for inputs, targets in data_loader:\n",
    "        inputs, targets = inputs.to(device), targets.to(device)\n",
    "        outputs = model(inputs)\n",
    "        loss = criterion(outputs, targets)\n",
    "        loss.backward()\n",
    "\n",
    "        for name, param in model.named_parameters():\n",
    "            if param.grad.data is not None:\n",
    "                importances[name] += param.grad.data ** 2\n",
    "        model.zero_grad()\n",
    "\n",
    "    for name, param in model.named_parameters():\n",
    "        importances[name] /= len(data_loader)\n",
    "\n",
    "    return importances"
   ]
  },
  {
   "cell_type": "code",
   "execution_count": null,
   "metadata": {},
   "outputs": [],
   "source": [
    "def compute_loss(model, old_model_state_dict, prediction, target, importances, criterion=torch.nn.CrossEntropyLoss(), alpha=1.0):\n",
    "    loss = criterion(prediction, target)    \n",
    "    \n",
    "    regularitzation_loss = 0\n",
    "    for name, param in model.named_parameters():\n",
    "        if name in old_model_state_dict:\n",
    "            regularitzation_loss += importances[name] * (param - old_model_state_dict[name]).pow(2).sum()\n",
    "    \n",
    "    return loss + alpha * regularitzation_loss"
   ]
  },
  {
   "cell_type": "code",
   "execution_count": null,
   "metadata": {},
   "outputs": [],
   "source": [
    "def add_importances(list_task_importances):\n",
    "    importances = {}\n",
    "    for task_importances in list_task_importances:\n",
    "        for name, importance in task_importances.items():\n",
    "            if name in importances:\n",
    "                importances[name] += importance\n",
    "            else:\n",
    "                importances[name] = importance\n",
    "\n",
    "    importances = {name: importance / len(list_task_importances) for name, importance in importances.items()}\n",
    "    return importances"
   ]
  }
 ],
 "metadata": {
  "kernelspec": {
   "display_name": "base",
   "language": "python",
   "name": "python3"
  },
  "language_info": {
   "codemirror_mode": {
    "name": "ipython",
    "version": 3
   },
   "file_extension": ".py",
   "mimetype": "text/x-python",
   "name": "python",
   "nbconvert_exporter": "python",
   "pygments_lexer": "ipython3",
   "version": "3.12.4"
  }
 },
 "nbformat": 4,
 "nbformat_minor": 2
}
